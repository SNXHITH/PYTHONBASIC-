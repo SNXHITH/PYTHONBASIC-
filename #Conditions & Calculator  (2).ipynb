{
 "cells": [
  {
   "cell_type": "markdown",
   "id": "0b4b2f24",
   "metadata": {},
   "source": [
    "# Conditions "
   ]
  },
  {
   "cell_type": "markdown",
   "id": "84148df9",
   "metadata": {},
   "source": [
    "# Conditions has 3 Modules \"if, elif, else\""
   ]
  },
  {
   "cell_type": "markdown",
   "id": "15b13c08",
   "metadata": {},
   "source": [
    "# Syntax"
   ]
  },
  {
   "cell_type": "code",
   "execution_count": 7,
   "id": "8f85ac4f",
   "metadata": {
    "collapsed": true
   },
   "outputs": [
    {
     "ename": "NameError",
     "evalue": "name 'condition' is not defined",
     "output_type": "error",
     "traceback": [
      "\u001b[1;31m---------------------------------------------------------------------------\u001b[0m",
      "\u001b[1;31mNameError\u001b[0m                                 Traceback (most recent call last)",
      "Cell \u001b[1;32mIn[7], line 1\u001b[0m\n\u001b[1;32m----> 1\u001b[0m \u001b[38;5;28;01mif\u001b[39;00m \u001b[43mcondition\u001b[49m:\n\u001b[0;32m      2\u001b[0m        statement \n\u001b[0;32m      3\u001b[0m \u001b[38;5;28;01melif\u001b[39;00m condition1:\n",
      "\u001b[1;31mNameError\u001b[0m: name 'condition' is not defined"
     ]
    }
   ],
   "source": [
    "if condition:statement "
   ]
  },
  {
   "cell_type": "code",
   "execution_count": null,
   "id": "22d2faa9",
   "metadata": {},
   "outputs": [],
   "source": [
    " elif condition1:\n",
    "        statement1"
   ]
  },
  {
   "cell_type": "code",
   "execution_count": null,
   "id": "7fe78629",
   "metadata": {},
   "outputs": [],
   "source": [
    "elif condition2:\n",
    "    statement2"
   ]
  },
  {
   "cell_type": "code",
   "execution_count": null,
   "id": "5cb645da",
   "metadata": {},
   "outputs": [],
   "source": [
    " elif condition3:\n",
    "        statement3"
   ]
  },
  {
   "cell_type": "code",
   "execution_count": null,
   "id": "cd45e5c6",
   "metadata": {},
   "outputs": [],
   "source": [
    " else: \n",
    "        End of statement"
   ]
  },
  {
   "cell_type": "code",
   "execution_count": 2,
   "id": "8d8bc29f",
   "metadata": {},
   "outputs": [
    {
     "name": "stdout",
     "output_type": "stream",
     "text": [
      "30\n"
     ]
    }
   ],
   "source": [
    "a=10\n",
    "b=20\n",
    "c=a+b\n",
    "if a<b:\n",
    "    print(c)\n",
    "elif a<b:\n",
    "        print(b)\n",
    "elif a!=b:\n",
    "    print(c)\n",
    "else:\n",
    "                print(\"Enter the Value:\")"
   ]
  },
  {
   "cell_type": "markdown",
   "id": "a91e2227",
   "metadata": {},
   "source": [
    "# Conditions and Logical Operators with Binary"
   ]
  },
  {
   "cell_type": "markdown",
   "id": "ee511bbf",
   "metadata": {},
   "source": [
    "# Syntax"
   ]
  },
  {
   "cell_type": "code",
   "execution_count": null,
   "id": "168cfce0",
   "metadata": {},
   "outputs": [],
   "source": [
    "if condition :\n",
    "    statement\n",
    "elif condition1 :\n",
    "    statement1\n",
    "elif condition2 :\n",
    "    statement2\n",
    "elif condition3 :\n",
    "    statement3\n",
    "elif condition4 :\n",
    "    statement4\n",
    "    \n",
    "else :           \n",
    "     end the statement \n",
    "    "
   ]
  },
  {
   "cell_type": "markdown",
   "id": "7649cfd2",
   "metadata": {},
   "source": [
    "a=10\n",
    "b=20\n",
    "if a>b:\n",
    "    print(\"a is grt then b\")\n",
    "elif b>a:\n",
    "    print(\"b is grt then a\")"
   ]
  },
  {
   "cell_type": "markdown",
   "id": "14197d2c",
   "metadata": {},
   "source": [
    "# #(        print) Space is know as Indentation "
   ]
  },
  {
   "cell_type": "code",
   "execution_count": null,
   "id": "b0f8be6c",
   "metadata": {},
   "outputs": [],
   "source": [
    "number=10\n",
    "a=f'{number:b}'\n",
    "print(a)"
   ]
  },
  {
   "cell_type": "code",
   "execution_count": 6,
   "id": "f5a71465",
   "metadata": {},
   "outputs": [
    {
     "name": "stdout",
     "output_type": "stream",
     "text": [
      "11110\n"
     ]
    }
   ],
   "source": [
    "number2=30\n",
    "b=f'{number2:0b}'\n",
    "print(b)"
   ]
  },
  {
   "cell_type": "code",
   "execution_count": 7,
   "id": "dccc0268",
   "metadata": {},
   "outputs": [
    {
     "name": "stdout",
     "output_type": "stream",
     "text": [
      "0000011110\n"
     ]
    }
   ],
   "source": [
    "number3=30 \n",
    "c=f'{number3:010b}'\n",
    "print(c)"
   ]
  },
  {
   "cell_type": "markdown",
   "id": "16ad3b6b",
   "metadata": {},
   "source": [
    "# and ,or Operator"
   ]
  },
  {
   "cell_type": "code",
   "execution_count": 10,
   "id": "1a534bbc",
   "metadata": {},
   "outputs": [
    {
     "name": "stdout",
     "output_type": "stream",
     "text": [
      "10\n"
     ]
    }
   ],
   "source": [
    "a=10 \n",
    "b=20 \n",
    "if a==10 or a==20:\n",
    "     print(a)"
   ]
  },
  {
   "cell_type": "code",
   "execution_count": 18,
   "id": "746bb6f6",
   "metadata": {},
   "outputs": [],
   "source": [
    "if a==10 and a==20:\n",
    "    print(b)  "
   ]
  },
  {
   "cell_type": "markdown",
   "id": "3d0a9626",
   "metadata": {},
   "source": [
    "# And Table "
   ]
  },
  {
   "cell_type": "code",
   "execution_count": null,
   "id": "8d923a10",
   "metadata": {},
   "outputs": [],
   "source": [
    "True True True \n",
    "True False False \n",
    "False True False\n",
    "False False False\n"
   ]
  },
  {
   "cell_type": "markdown",
   "id": "4198fdb8",
   "metadata": {},
   "source": [
    "# Or table"
   ]
  },
  {
   "cell_type": "code",
   "execution_count": null,
   "id": "d31552a0",
   "metadata": {},
   "outputs": [],
   "source": [
    "True True True \n",
    "True False True \n",
    "False True True \n",
    "False False False \n"
   ]
  },
  {
   "cell_type": "markdown",
   "id": "66f0a9c2",
   "metadata": {},
   "source": [
    "# Calculator "
   ]
  },
  {
   "cell_type": "code",
   "execution_count": 27,
   "id": "af4a561f",
   "metadata": {},
   "outputs": [
    {
     "name": "stdout",
     "output_type": "stream",
     "text": [
      "Enter a value100\n",
      "Enter a value500\n",
      "Enter a operations,('+','-','*','/','//','%')+\n",
      "Here we are performing addition operation 600\n"
     ]
    }
   ],
   "source": [
    "a= int(input(\"Enter a value\"))\n",
    "b= int(input(\"Enter a value\"))\n",
    "operations= input(\"Enter a operations,('+','-','*','/','//','%')\")\n",
    "if operations ==\"+\":\n",
    "        print(\"Here we are performing addition operation\",a+b)\n",
    "elif operations ==\"-\":\n",
    "        print(\"Here we are performing  subtraction operation\",a-b)\n",
    "elif operations ==\"*\":\n",
    "         print(\"Here we are performing multiplication  operation\",a*b)\n",
    "elif operations ==\"/\":\n",
    "         print(\"Here we are performing division operation\",a/b)\n",
    "elif operations ==\"//\":\n",
    "         print(\"Here we are performing division operation without decimal point\",a//b)\n",
    "elif operations ==\"%\":\n",
    "         print(\"Here we are performing modular operation without decimal point\",a%b)\n",
    "else:\n",
    "      print(\"Please Enter the valid operation\")"
   ]
  },
  {
   "cell_type": "code",
   "execution_count": null,
   "id": "070146fe",
   "metadata": {},
   "outputs": [],
   "source": []
  },
  {
   "cell_type": "code",
   "execution_count": null,
   "id": "fd29ec35",
   "metadata": {},
   "outputs": [],
   "source": []
  },
  {
   "cell_type": "code",
   "execution_count": null,
   "id": "fbcf9cf6",
   "metadata": {},
   "outputs": [],
   "source": []
  }
 ],
 "metadata": {
  "kernelspec": {
   "display_name": "Python 3 (ipykernel)",
   "language": "python",
   "name": "python3"
  },
  "language_info": {
   "codemirror_mode": {
    "name": "ipython",
    "version": 3
   },
   "file_extension": ".py",
   "mimetype": "text/x-python",
   "name": "python",
   "nbconvert_exporter": "python",
   "pygments_lexer": "ipython3",
   "version": "3.10.9"
  }
 },
 "nbformat": 4,
 "nbformat_minor": 5
}
