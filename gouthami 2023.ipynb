{
 "cells": [
  {
   "cell_type": "code",
   "execution_count": 1,
   "id": "1621d8f8",
   "metadata": {},
   "outputs": [],
   "source": [
    "s = (1,2,3,4,5,6)"
   ]
  },
  {
   "cell_type": "code",
   "execution_count": 2,
   "id": "771f3a30",
   "metadata": {},
   "outputs": [
    {
     "data": {
      "text/plain": [
       "(1, 2, 3, 4, 5, 6)"
      ]
     },
     "execution_count": 2,
     "metadata": {},
     "output_type": "execute_result"
    }
   ],
   "source": [
    "s"
   ]
  },
  {
   "cell_type": "code",
   "execution_count": 7,
   "id": "2b4e54be",
   "metadata": {},
   "outputs": [],
   "source": [
    "s1 =(\"gouthami\",\"coding\",\"👍\",\"😎\",1,2,3,4)"
   ]
  },
  {
   "cell_type": "code",
   "execution_count": 8,
   "id": "14f77bbd",
   "metadata": {},
   "outputs": [
    {
     "data": {
      "text/plain": [
       "('gouthami', 'coding', '👍', '😎', 1, 2, 3, 4)"
      ]
     },
     "execution_count": 8,
     "metadata": {},
     "output_type": "execute_result"
    }
   ],
   "source": [
    "s1"
   ]
  },
  {
   "cell_type": "code",
   "execution_count": 5,
   "id": "67ae8a19",
   "metadata": {},
   "outputs": [
    {
     "data": {
      "text/plain": [
       "tuple"
      ]
     },
     "execution_count": 5,
     "metadata": {},
     "output_type": "execute_result"
    }
   ],
   "source": [
    "type(s1)"
   ]
  },
  {
   "cell_type": "code",
   "execution_count": 18,
   "id": "1622c0e9",
   "metadata": {},
   "outputs": [],
   "source": [
    "car =[\"bmw\",\"Audi\",\"Volvo\",\"Benz\"]"
   ]
  },
  {
   "cell_type": "markdown",
   "id": "11da049f",
   "metadata": {},
   "source": [
    "car"
   ]
  },
  {
   "cell_type": "code",
   "execution_count": 19,
   "id": "af3bb83d",
   "metadata": {},
   "outputs": [
    {
     "data": {
      "text/plain": [
       "list"
      ]
     },
     "execution_count": 19,
     "metadata": {},
     "output_type": "execute_result"
    }
   ],
   "source": [
    "type(car)"
   ]
  },
  {
   "cell_type": "markdown",
   "id": "7ed59ecb",
   "metadata": {},
   "source": []
  },
  {
   "cell_type": "code",
   "execution_count": 2,
   "id": "17a266aa",
   "metadata": {},
   "outputs": [],
   "source": [
    "S2 ={1,2,3,4,\"gouthami\",\"collage\",\"phone\"}"
   ]
  },
  {
   "cell_type": "markdown",
   "id": "3d35b9a6",
   "metadata": {},
   "source": [
    "# sainaveen"
   ]
  },
  {
   "cell_type": "code",
   "execution_count": null,
   "id": "6a8dd54c",
   "metadata": {},
   "outputs": [],
   "source": [
    "# string, tuples, set, list, dict"
   ]
  }
 ],
 "metadata": {
  "kernelspec": {
   "display_name": "Python 3 (ipykernel)",
   "language": "python",
   "name": "python3"
  },
  "language_info": {
   "codemirror_mode": {
    "name": "ipython",
    "version": 3
   },
   "file_extension": ".py",
   "mimetype": "text/x-python",
   "name": "python",
   "nbconvert_exporter": "python",
   "pygments_lexer": "ipython3",
   "version": "3.10.9"
  }
 },
 "nbformat": 4,
 "nbformat_minor": 5
}
