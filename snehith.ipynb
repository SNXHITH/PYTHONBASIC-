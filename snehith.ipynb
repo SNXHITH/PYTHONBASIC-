{
 "cells": [
  {
   "cell_type": "code",
   "execution_count": 3,
   "id": "383cf494",
   "metadata": {},
   "outputs": [],
   "source": [
    "strings = \"snehith\",\"car\",\"holidays\",\"bike\",\"collage\""
   ]
  },
  {
   "cell_type": "code",
   "execution_count": 4,
   "id": "5a194022",
   "metadata": {},
   "outputs": [
    {
     "data": {
      "text/plain": [
       "('snehith', 'car', 'holidays', 'bike', 'collage')"
      ]
     },
     "execution_count": 4,
     "metadata": {},
     "output_type": "execute_result"
    }
   ],
   "source": [
    "strings"
   ]
  },
  {
   "cell_type": "code",
   "execution_count": 5,
   "id": "8d574a76",
   "metadata": {},
   "outputs": [
    {
     "name": "stdout",
     "output_type": "stream",
     "text": [
      "('snehith', 'car', 'holidays', 'bike', 'collage')\n"
     ]
    }
   ],
   "source": [
    "print(strings)"
   ]
  },
  {
   "cell_type": "code",
   "execution_count": 6,
   "id": "c1596405",
   "metadata": {},
   "outputs": [
    {
     "name": "stdout",
     "output_type": "stream",
     "text": [
      "snehith\n"
     ]
    }
   ],
   "source": [
    "print(\"snehith\")"
   ]
  },
  {
   "cell_type": "code",
   "execution_count": 7,
   "id": "73a8b165",
   "metadata": {},
   "outputs": [
    {
     "name": "stdout",
     "output_type": "stream",
     "text": [
      "sai prema\n"
     ]
    }
   ],
   "source": [
    "print(\"sai prema\")"
   ]
  },
  {
   "cell_type": "code",
   "execution_count": 8,
   "id": "8d758964",
   "metadata": {},
   "outputs": [
    {
     "name": "stdout",
     "output_type": "stream",
     "text": [
      "hemalatha\n"
     ]
    }
   ],
   "source": [
    "print(\"hemalatha\")"
   ]
  },
  {
   "cell_type": "code",
   "execution_count": 9,
   "id": "9e16117f",
   "metadata": {},
   "outputs": [
    {
     "name": "stdout",
     "output_type": "stream",
     "text": [
      "jai sri ram\n"
     ]
    }
   ],
   "source": [
    "print(\"jai sri ram\")"
   ]
  },
  {
   "cell_type": "code",
   "execution_count": 10,
   "id": "e2b46824",
   "metadata": {},
   "outputs": [
    {
     "name": "stdout",
     "output_type": "stream",
     "text": [
      "sahith}\n"
     ]
    }
   ],
   "source": [
    "print(\"sahith}\")"
   ]
  },
  {
   "cell_type": "code",
   "execution_count": 11,
   "id": "586b243c",
   "metadata": {},
   "outputs": [],
   "source": [
    "s=[1,2,3,4,5,6,7]"
   ]
  },
  {
   "cell_type": "code",
   "execution_count": 12,
   "id": "b194748b",
   "metadata": {},
   "outputs": [
    {
     "name": "stdout",
     "output_type": "stream",
     "text": [
      "[1, 2, 3, 4, 5, 6, 7]\n"
     ]
    }
   ],
   "source": [
    "print(s)"
   ]
  },
  {
   "cell_type": "code",
   "execution_count": 14,
   "id": "8edc38ad",
   "metadata": {},
   "outputs": [
    {
     "data": {
      "text/plain": [
       "1"
      ]
     },
     "execution_count": 14,
     "metadata": {},
     "output_type": "execute_result"
    }
   ],
   "source": [
    "s[0]"
   ]
  },
  {
   "cell_type": "code",
   "execution_count": 15,
   "id": "2ffb9618",
   "metadata": {},
   "outputs": [
    {
     "data": {
      "text/plain": [
       "2"
      ]
     },
     "execution_count": 15,
     "metadata": {},
     "output_type": "execute_result"
    }
   ],
   "source": [
    "s[1]"
   ]
  },
  {
   "cell_type": "code",
   "execution_count": 16,
   "id": "1dd72dd1",
   "metadata": {},
   "outputs": [
    {
     "data": {
      "text/plain": [
       "3"
      ]
     },
     "execution_count": 16,
     "metadata": {},
     "output_type": "execute_result"
    }
   ],
   "source": [
    "s[2]"
   ]
  },
  {
   "cell_type": "code",
   "execution_count": 17,
   "id": "17258378",
   "metadata": {},
   "outputs": [
    {
     "data": {
      "text/plain": [
       "4"
      ]
     },
     "execution_count": 17,
     "metadata": {},
     "output_type": "execute_result"
    }
   ],
   "source": [
    "s[3]"
   ]
  },
  {
   "cell_type": "code",
   "execution_count": 18,
   "id": "0f105d2a",
   "metadata": {},
   "outputs": [
    {
     "data": {
      "text/plain": [
       "5"
      ]
     },
     "execution_count": 18,
     "metadata": {},
     "output_type": "execute_result"
    }
   ],
   "source": [
    "s[4]"
   ]
  },
  {
   "cell_type": "code",
   "execution_count": 19,
   "id": "6ed1118e",
   "metadata": {},
   "outputs": [
    {
     "data": {
      "text/plain": [
       "6"
      ]
     },
     "execution_count": 19,
     "metadata": {},
     "output_type": "execute_result"
    }
   ],
   "source": [
    "s[5]"
   ]
  },
  {
   "cell_type": "code",
   "execution_count": 21,
   "id": "86be9bfd",
   "metadata": {},
   "outputs": [
    {
     "data": {
      "text/plain": [
       "7"
      ]
     },
     "execution_count": 21,
     "metadata": {},
     "output_type": "execute_result"
    }
   ],
   "source": [
    "\n",
    "s[6]"
   ]
  },
  {
   "cell_type": "code",
   "execution_count": 22,
   "id": "674a4522",
   "metadata": {},
   "outputs": [],
   "source": [
    "snehith=\"i am snehith from hyederabad and i stay in kachiguda\""
   ]
  },
  {
   "cell_type": "code",
   "execution_count": 25,
   "id": "93a84428",
   "metadata": {},
   "outputs": [
    {
     "name": "stdout",
     "output_type": "stream",
     "text": [
      " i am snehith from hyederabad and i stay in kachiguda \n"
     ]
    }
   ],
   "source": [
    "print(snehith)"
   ]
  },
  {
   "cell_type": "code",
   "execution_count": 28,
   "id": "9fa7cb06",
   "metadata": {},
   "outputs": [
    {
     "data": {
      "text/plain": [
       "' '"
      ]
     },
     "execution_count": 28,
     "metadata": {},
     "output_type": "execute_result"
    }
   ],
   "source": [
    "snehith[0]"
   ]
  },
  {
   "cell_type": "code",
   "execution_count": 29,
   "id": "80e26f3b",
   "metadata": {},
   "outputs": [
    {
     "data": {
      "text/plain": [
       "'i'"
      ]
     },
     "execution_count": 29,
     "metadata": {},
     "output_type": "execute_result"
    }
   ],
   "source": [
    "snehith[1]"
   ]
  },
  {
   "cell_type": "code",
   "execution_count": 30,
   "id": "db2d1c91",
   "metadata": {},
   "outputs": [
    {
     "data": {
      "text/plain": [
       "' '"
      ]
     },
     "execution_count": 30,
     "metadata": {},
     "output_type": "execute_result"
    }
   ],
   "source": [
    "snehith[2]"
   ]
  },
  {
   "cell_type": "code",
   "execution_count": 31,
   "id": "f306b13e",
   "metadata": {},
   "outputs": [
    {
     "data": {
      "text/plain": [
       "'a'"
      ]
     },
     "execution_count": 31,
     "metadata": {},
     "output_type": "execute_result"
    }
   ],
   "source": [
    "snehith[3]"
   ]
  },
  {
   "cell_type": "code",
   "execution_count": 32,
   "id": "04a3bf68",
   "metadata": {},
   "outputs": [
    {
     "data": {
      "text/plain": [
       "'m'"
      ]
     },
     "execution_count": 32,
     "metadata": {},
     "output_type": "execute_result"
    }
   ],
   "source": [
    "snehith[4]"
   ]
  },
  {
   "cell_type": "code",
   "execution_count": 33,
   "id": "0b7b9460",
   "metadata": {},
   "outputs": [
    {
     "data": {
      "text/plain": [
       "' '"
      ]
     },
     "execution_count": 33,
     "metadata": {},
     "output_type": "execute_result"
    }
   ],
   "source": [
    "snehith[5]"
   ]
  },
  {
   "cell_type": "code",
   "execution_count": 34,
   "id": "cc53f482",
   "metadata": {},
   "outputs": [
    {
     "data": {
      "text/plain": [
       "'s'"
      ]
     },
     "execution_count": 34,
     "metadata": {},
     "output_type": "execute_result"
    }
   ],
   "source": [
    "snehith[6]"
   ]
  },
  {
   "cell_type": "code",
   "execution_count": 35,
   "id": "219679e3",
   "metadata": {},
   "outputs": [
    {
     "data": {
      "text/plain": [
       "'n'"
      ]
     },
     "execution_count": 35,
     "metadata": {},
     "output_type": "execute_result"
    }
   ],
   "source": [
    "snehith[7]"
   ]
  },
  {
   "cell_type": "code",
   "execution_count": 36,
   "id": "c95a6567",
   "metadata": {},
   "outputs": [
    {
     "data": {
      "text/plain": [
       "'e'"
      ]
     },
     "execution_count": 36,
     "metadata": {},
     "output_type": "execute_result"
    }
   ],
   "source": [
    "snehith[8]"
   ]
  },
  {
   "cell_type": "code",
   "execution_count": 37,
   "id": "9db96da3",
   "metadata": {},
   "outputs": [
    {
     "data": {
      "text/plain": [
       "'h'"
      ]
     },
     "execution_count": 37,
     "metadata": {},
     "output_type": "execute_result"
    }
   ],
   "source": [
    "snehith[9]"
   ]
  },
  {
   "cell_type": "code",
   "execution_count": 38,
   "id": "c6c6245b",
   "metadata": {},
   "outputs": [
    {
     "data": {
      "text/plain": [
       "'i'"
      ]
     },
     "execution_count": 38,
     "metadata": {},
     "output_type": "execute_result"
    }
   ],
   "source": [
    "snehith[10]"
   ]
  },
  {
   "cell_type": "code",
   "execution_count": 39,
   "id": "beb0599d",
   "metadata": {},
   "outputs": [
    {
     "data": {
      "text/plain": [
       "'t'"
      ]
     },
     "execution_count": 39,
     "metadata": {},
     "output_type": "execute_result"
    }
   ],
   "source": [
    "snehith[11]"
   ]
  },
  {
   "cell_type": "code",
   "execution_count": 40,
   "id": "717e2694",
   "metadata": {},
   "outputs": [
    {
     "data": {
      "text/plain": [
       "'h'"
      ]
     },
     "execution_count": 40,
     "metadata": {},
     "output_type": "execute_result"
    }
   ],
   "source": [
    "snehith[12]"
   ]
  },
  {
   "cell_type": "code",
   "execution_count": 41,
   "id": "758d4766",
   "metadata": {},
   "outputs": [
    {
     "data": {
      "text/plain": [
       "' '"
      ]
     },
     "execution_count": 41,
     "metadata": {},
     "output_type": "execute_result"
    }
   ],
   "source": [
    "snehith[-1]"
   ]
  },
  {
   "cell_type": "code",
   "execution_count": 42,
   "id": "89b61289",
   "metadata": {},
   "outputs": [
    {
     "data": {
      "text/plain": [
       "'a'"
      ]
     },
     "execution_count": 42,
     "metadata": {},
     "output_type": "execute_result"
    }
   ],
   "source": [
    "snehith[-2]"
   ]
  },
  {
   "cell_type": "code",
   "execution_count": 43,
   "id": "6a87b2b3",
   "metadata": {},
   "outputs": [
    {
     "data": {
      "text/plain": [
       "'d'"
      ]
     },
     "execution_count": 43,
     "metadata": {},
     "output_type": "execute_result"
    }
   ],
   "source": [
    "snehith[-3]"
   ]
  },
  {
   "cell_type": "code",
   "execution_count": 44,
   "id": "4698458c",
   "metadata": {},
   "outputs": [
    {
     "data": {
      "text/plain": [
       "'i'"
      ]
     },
     "execution_count": 44,
     "metadata": {},
     "output_type": "execute_result"
    }
   ],
   "source": [
    "snehith[-6]"
   ]
  },
  {
   "cell_type": "code",
   "execution_count": 45,
   "id": "04ecafd8",
   "metadata": {},
   "outputs": [
    {
     "data": {
      "text/plain": [
       "'k'"
      ]
     },
     "execution_count": 45,
     "metadata": {},
     "output_type": "execute_result"
    }
   ],
   "source": [
    "snehith[-10]"
   ]
  },
  {
   "cell_type": "code",
   "execution_count": 46,
   "id": "165ac4b5",
   "metadata": {},
   "outputs": [
    {
     "data": {
      "text/plain": [
       "'b'"
      ]
     },
     "execution_count": 46,
     "metadata": {},
     "output_type": "execute_result"
    }
   ],
   "source": [
    "snehith[-28]"
   ]
  },
  {
   "cell_type": "code",
   "execution_count": 50,
   "id": "d53aa334",
   "metadata": {},
   "outputs": [],
   "source": [
    "snehith= \"i write code\""
   ]
  },
  {
   "cell_type": "code",
   "execution_count": 52,
   "id": "fc46b081",
   "metadata": {},
   "outputs": [
    {
     "data": {
      "text/plain": [
       "'ireo'"
      ]
     },
     "execution_count": 52,
     "metadata": {},
     "output_type": "execute_result"
    }
   ],
   "source": [
    "snehith[0:10:3]"
   ]
  },
  {
   "cell_type": "code",
   "execution_count": null,
   "id": "4ac87549",
   "metadata": {},
   "outputs": [],
   "source": [
    "\n"
   ]
  }
 ],
 "metadata": {
  "kernelspec": {
   "display_name": "Python 3 (ipykernel)",
   "language": "python",
   "name": "python3"
  },
  "language_info": {
   "codemirror_mode": {
    "name": "ipython",
    "version": 3
   },
   "file_extension": ".py",
   "mimetype": "text/x-python",
   "name": "python",
   "nbconvert_exporter": "python",
   "pygments_lexer": "ipython3",
   "version": "3.10.9"
  }
 },
 "nbformat": 4,
 "nbformat_minor": 5
}
