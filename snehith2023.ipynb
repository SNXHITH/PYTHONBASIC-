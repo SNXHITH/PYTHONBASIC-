{
 "cells": [
  {
   "cell_type": "code",
   "execution_count": 1,
   "id": "d1f06295",
   "metadata": {},
   "outputs": [],
   "source": [
    "list=[\"naveen\",\"car\",\"money\",\"bike\",\"colage\"]"
   ]
  },
  {
   "cell_type": "code",
   "execution_count": 2,
   "id": "c8f86134",
   "metadata": {},
   "outputs": [
    {
     "data": {
      "text/plain": [
       "['naveen', 'car', 'money', 'bike', 'colage']"
      ]
     },
     "execution_count": 2,
     "metadata": {},
     "output_type": "execute_result"
    }
   ],
   "source": [
    "list"
   ]
  },
  {
   "cell_type": "code",
   "execution_count": 3,
   "id": "609b1cb2",
   "metadata": {},
   "outputs": [],
   "source": [
    "a=(\"a\",\"b\",\"c\",\"d\",\"e\",\"f\",\"g\",\"h\")"
   ]
  },
  {
   "cell_type": "code",
   "execution_count": 4,
   "id": "c2518bb6",
   "metadata": {},
   "outputs": [
    {
     "data": {
      "text/plain": [
       "('a', 'b', 'c', 'd', 'e', 'f', 'g', 'h')"
      ]
     },
     "execution_count": 4,
     "metadata": {},
     "output_type": "execute_result"
    }
   ],
   "source": [
    "a"
   ]
  },
  {
   "cell_type": "code",
   "execution_count": 5,
   "id": "9f2788b4",
   "metadata": {},
   "outputs": [],
   "source": [
    "b={1,2,3,4,5,6,7,8}"
   ]
  },
  {
   "cell_type": "code",
   "execution_count": 6,
   "id": "6af74fda",
   "metadata": {},
   "outputs": [
    {
     "data": {
      "text/plain": [
       "{1, 2, 3, 4, 5, 6, 7, 8}"
      ]
     },
     "execution_count": 6,
     "metadata": {},
     "output_type": "execute_result"
    }
   ],
   "source": [
    "b"
   ]
  },
  {
   "cell_type": "code",
   "execution_count": 7,
   "id": "dc024c4c",
   "metadata": {},
   "outputs": [],
   "source": [
    "set={1,2,3,4,5,6,7,8,9,10}"
   ]
  },
  {
   "cell_type": "code",
   "execution_count": 8,
   "id": "32bde5a3",
   "metadata": {},
   "outputs": [],
   "source": [
    "dic={\"key\":\"value\",\"key1\":\"value2\",\"key\":\"value2\"}"
   ]
  },
  {
   "cell_type": "code",
   "execution_count": 9,
   "id": "93795890",
   "metadata": {},
   "outputs": [],
   "source": [
    "snehith={\"name\":\"snehith\",\"age\":\"19\",\"college\":\"kmics\",\"place\":\"naryanguda\"}"
   ]
  },
  {
   "cell_type": "code",
   "execution_count": 10,
   "id": "ac0ee734",
   "metadata": {},
   "outputs": [
    {
     "data": {
      "text/plain": [
       "{'name': 'snehith', 'age': '19', 'college': 'kmics', 'place': 'naryanguda'}"
      ]
     },
     "execution_count": 10,
     "metadata": {},
     "output_type": "execute_result"
    }
   ],
   "source": [
    "snehith"
   ]
  },
  {
   "cell_type": "code",
   "execution_count": 11,
   "id": "1326037d",
   "metadata": {},
   "outputs": [
    {
     "data": {
      "text/plain": [
       "dict_values(['snehith', '19', 'kmics', 'naryanguda'])"
      ]
     },
     "execution_count": 11,
     "metadata": {},
     "output_type": "execute_result"
    }
   ],
   "source": [
    "snehith.values()"
   ]
  },
  {
   "cell_type": "code",
   "execution_count": 12,
   "id": "7f22a292",
   "metadata": {},
   "outputs": [
    {
     "data": {
      "text/plain": [
       "dict_keys(['name', 'age', 'college', 'place'])"
      ]
     },
     "execution_count": 12,
     "metadata": {},
     "output_type": "execute_result"
    }
   ],
   "source": [
    "snehith.keys()"
   ]
  },
  {
   "cell_type": "code",
   "execution_count": 13,
   "id": "18086dec",
   "metadata": {},
   "outputs": [
    {
     "data": {
      "text/plain": [
       "dict"
      ]
     },
     "execution_count": 13,
     "metadata": {},
     "output_type": "execute_result"
    }
   ],
   "source": [
    "type(snehith)"
   ]
  },
  {
   "cell_type": "code",
   "execution_count": 14,
   "id": "b9870448",
   "metadata": {},
   "outputs": [],
   "source": [
    "snehith[0]=\"praneeth anatr ra babu\""
   ]
  },
  {
   "cell_type": "code",
   "execution_count": 15,
   "id": "282f2c69",
   "metadata": {},
   "outputs": [
    {
     "data": {
      "text/plain": [
       "{'name': 'snehith',\n",
       " 'age': '19',\n",
       " 'college': 'kmics',\n",
       " 'place': 'naryanguda',\n",
       " 0: 'praneeth anatr ra babu'}"
      ]
     },
     "execution_count": 15,
     "metadata": {},
     "output_type": "execute_result"
    }
   ],
   "source": [
    "snehith"
   ]
  },
  {
   "cell_type": "code",
   "execution_count": 16,
   "id": "8eff6c8b",
   "metadata": {},
   "outputs": [],
   "source": [
    "snehith[1]=\"ramnagar\""
   ]
  },
  {
   "cell_type": "code",
   "execution_count": 17,
   "id": "f1b17772",
   "metadata": {},
   "outputs": [
    {
     "data": {
      "text/plain": [
       "{'name': 'snehith',\n",
       " 'age': '19',\n",
       " 'college': 'kmics',\n",
       " 'place': 'naryanguda',\n",
       " 0: 'praneeth anatr ra babu',\n",
       " 1: 'ramnagar'}"
      ]
     },
     "execution_count": 17,
     "metadata": {},
     "output_type": "execute_result"
    }
   ],
   "source": [
    "snehith"
   ]
  },
  {
   "cell_type": "code",
   "execution_count": 18,
   "id": "ee49e5fa",
   "metadata": {},
   "outputs": [],
   "source": [
    "snehith[2]=\"bullet350classic\""
   ]
  },
  {
   "cell_type": "code",
   "execution_count": 19,
   "id": "23e115ea",
   "metadata": {},
   "outputs": [
    {
     "data": {
      "text/plain": [
       "{'name': 'snehith',\n",
       " 'age': '19',\n",
       " 'college': 'kmics',\n",
       " 'place': 'naryanguda',\n",
       " 0: 'praneeth anatr ra babu',\n",
       " 1: 'ramnagar',\n",
       " 2: 'bullet350classic'}"
      ]
     },
     "execution_count": 19,
     "metadata": {},
     "output_type": "execute_result"
    }
   ],
   "source": [
    "snehith"
   ]
  },
  {
   "cell_type": "code",
   "execution_count": 20,
   "id": "4dfdd463",
   "metadata": {},
   "outputs": [],
   "source": [
    "snehith[3]=\"backbencher\""
   ]
  },
  {
   "cell_type": "code",
   "execution_count": 21,
   "id": "972b79d4",
   "metadata": {},
   "outputs": [
    {
     "data": {
      "text/plain": [
       "{'name': 'snehith',\n",
       " 'age': '19',\n",
       " 'college': 'kmics',\n",
       " 'place': 'naryanguda',\n",
       " 0: 'praneeth anatr ra babu',\n",
       " 1: 'ramnagar',\n",
       " 2: 'bullet350classic',\n",
       " 3: 'backbencher'}"
      ]
     },
     "execution_count": 21,
     "metadata": {},
     "output_type": "execute_result"
    }
   ],
   "source": [
    "snehith"
   ]
  },
  {
   "cell_type": "code",
   "execution_count": 31,
   "id": "64a4c75f",
   "metadata": {},
   "outputs": [],
   "source": [
    "t=(\"snehith\",\"collage\",\"car\",\"bike\")"
   ]
  },
  {
   "cell_type": "code",
   "execution_count": 26,
   "id": "888d25ae",
   "metadata": {},
   "outputs": [
    {
     "data": {
      "text/plain": [
       "('snehith', 'collage', 'car', 'bike')"
      ]
     },
     "execution_count": 26,
     "metadata": {},
     "output_type": "execute_result"
    }
   ],
   "source": [
    "t"
   ]
  },
  {
   "cell_type": "code",
   "execution_count": 29,
   "id": "e21d81a8",
   "metadata": {},
   "outputs": [
    {
     "data": {
      "text/plain": [
       "'snehith'"
      ]
     },
     "execution_count": 29,
     "metadata": {},
     "output_type": "execute_result"
    }
   ],
   "source": [
    "t[0]"
   ]
  },
  {
   "cell_type": "code",
   "execution_count": 30,
   "id": "d625f8c3",
   "metadata": {},
   "outputs": [
    {
     "ename": "TypeError",
     "evalue": "'tuple' object does not support item assignment",
     "output_type": "error",
     "traceback": [
      "\u001b[1;31m---------------------------------------------------------------------------\u001b[0m",
      "\u001b[1;31mTypeError\u001b[0m                                 Traceback (most recent call last)",
      "Cell \u001b[1;32mIn[30], line 1\u001b[0m\n\u001b[1;32m----> 1\u001b[0m t[\u001b[38;5;241m0\u001b[39m]\u001b[38;5;241m=\u001b[39m\u001b[38;5;124m\"\u001b[39m\u001b[38;5;124mrama\u001b[39m\u001b[38;5;124m\"\u001b[39m\n",
      "\u001b[1;31mTypeError\u001b[0m: 'tuple' object does not support item assignment"
     ]
    }
   ],
   "source": [
    "t[0]=\"rama\""
   ]
  },
  {
   "cell_type": "code",
   "execution_count": 32,
   "id": "6ab2be91",
   "metadata": {},
   "outputs": [],
   "source": [
    "t=[\"snehith\",\"collage\",\"car\",\"bike\"]"
   ]
  },
  {
   "cell_type": "code",
   "execution_count": 33,
   "id": "cc845231",
   "metadata": {},
   "outputs": [
    {
     "data": {
      "text/plain": [
       "['snehith', 'collage', 'car', 'bike']"
      ]
     },
     "execution_count": 33,
     "metadata": {},
     "output_type": "execute_result"
    }
   ],
   "source": [
    "t"
   ]
  },
  {
   "cell_type": "code",
   "execution_count": 34,
   "id": "3beb5cee",
   "metadata": {},
   "outputs": [],
   "source": [
    "t[3]=\"car\""
   ]
  },
  {
   "cell_type": "code",
   "execution_count": 35,
   "id": "f67beee9",
   "metadata": {},
   "outputs": [
    {
     "data": {
      "text/plain": [
       "['snehith', 'collage', 'car', 'car']"
      ]
     },
     "execution_count": 35,
     "metadata": {},
     "output_type": "execute_result"
    }
   ],
   "source": [
    "t"
   ]
  },
  {
   "cell_type": "code",
   "execution_count": 36,
   "id": "cc58684b",
   "metadata": {},
   "outputs": [],
   "source": [
    "t[2]=\"bike\""
   ]
  },
  {
   "cell_type": "code",
   "execution_count": 37,
   "id": "1b1c1c7c",
   "metadata": {},
   "outputs": [
    {
     "data": {
      "text/plain": [
       "['snehith', 'collage', 'bike', 'car']"
      ]
     },
     "execution_count": 37,
     "metadata": {},
     "output_type": "execute_result"
    }
   ],
   "source": [
    "t"
   ]
  },
  {
   "cell_type": "code",
   "execution_count": 38,
   "id": "0a52d74c",
   "metadata": {},
   "outputs": [],
   "source": [
    "t[1]=\"duke250\""
   ]
  },
  {
   "cell_type": "code",
   "execution_count": 39,
   "id": "a0ec8119",
   "metadata": {},
   "outputs": [
    {
     "data": {
      "text/plain": [
       "['snehith', 'duke250', 'bike', 'car']"
      ]
     },
     "execution_count": 39,
     "metadata": {},
     "output_type": "execute_result"
    }
   ],
   "source": [
    "t"
   ]
  },
  {
   "cell_type": "code",
   "execution_count": 45,
   "id": "a0e6785b",
   "metadata": {},
   "outputs": [],
   "source": [
    "f=open(\"snehith.txt\",\"w\")"
   ]
  },
  {
   "cell_type": "code",
   "execution_count": 46,
   "id": "1e1067bd",
   "metadata": {},
   "outputs": [
    {
     "data": {
      "text/plain": [
       "65"
      ]
     },
     "execution_count": 46,
     "metadata": {},
     "output_type": "execute_result"
    }
   ],
   "source": [
    "f.write(\"this is my first file written in jupiter notebook on 1-april-2023\")"
   ]
  },
  {
   "cell_type": "code",
   "execution_count": 47,
   "id": "482070f3",
   "metadata": {},
   "outputs": [],
   "source": [
    "f.close()"
   ]
  },
  {
   "cell_type": "code",
   "execution_count": 48,
   "id": "f7c3211e",
   "metadata": {},
   "outputs": [
    {
     "ename": "AttributeError",
     "evalue": "'_io.TextIOWrapper' object has no attribute 'append'",
     "output_type": "error",
     "traceback": [
      "\u001b[1;31m---------------------------------------------------------------------------\u001b[0m",
      "\u001b[1;31mAttributeError\u001b[0m                            Traceback (most recent call last)",
      "Cell \u001b[1;32mIn[48], line 1\u001b[0m\n\u001b[1;32m----> 1\u001b[0m \u001b[43mf\u001b[49m\u001b[38;5;241;43m.\u001b[39;49m\u001b[43mappend\u001b[49m(\u001b[38;5;124m\"\u001b[39m\u001b[38;5;124msnehith2\u001b[39m\u001b[38;5;124m\"\u001b[39m)\n",
      "\u001b[1;31mAttributeError\u001b[0m: '_io.TextIOWrapper' object has no attribute 'append'"
     ]
    }
   ],
   "source": [
    "f"
   ]
  },
  {
   "cell_type": "code",
   "execution_count": null,
   "id": "b0983429",
   "metadata": {},
   "outputs": [],
   "source": []
  }
 ],
 "metadata": {
  "kernelspec": {
   "display_name": "Python 3 (ipykernel)",
   "language": "python",
   "name": "python3"
  },
  "language_info": {
   "codemirror_mode": {
    "name": "ipython",
    "version": 3
   },
   "file_extension": ".py",
   "mimetype": "text/x-python",
   "name": "python",
   "nbconvert_exporter": "python",
   "pygments_lexer": "ipython3",
   "version": "3.10.9"
  }
 },
 "nbformat": 4,
 "nbformat_minor": 5
}
