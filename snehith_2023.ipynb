{
 "cells": [
  {
   "cell_type": "markdown",
   "id": "56ec0898",
   "metadata": {},
   "source": [
    "# conditions"
   ]
  },
  {
   "cell_type": "markdown",
   "id": "7f3fb8f4",
   "metadata": {},
   "source": [
    "\"\"\"conditions has 3 modules\n",
    "if\n",
    "elif\n",
    "else\"\"\""
   ]
  },
  {
   "cell_type": "code",
   "execution_count": 8,
   "id": "d8594c03",
   "metadata": {},
   "outputs": [
    {
     "name": "stdout",
     "output_type": "stream",
     "text": [
      "20\n"
     ]
    }
   ],
   "source": [
    "a=10 \n",
    "b=20\n",
    "c=a+b\n",
    "if a>b:\n",
    "    print(c)\n",
    "elif a<b:\n",
    "    print(b)\n",
    "elif a!=b:\n",
    "     print (c)\n",
    "else:\n",
    "    print(\"enter the value:\")"
   ]
  },
  {
   "cell_type": "code",
   "execution_count": null,
   "id": "bdec2fef",
   "metadata": {},
   "outputs": [],
   "source": []
  }
 ],
 "metadata": {
  "kernelspec": {
   "display_name": "Python 3 (ipykernel)",
   "language": "python",
   "name": "python3"
  },
  "language_info": {
   "codemirror_mode": {
    "name": "ipython",
    "version": 3
   },
   "file_extension": ".py",
   "mimetype": "text/x-python",
   "name": "python",
   "nbconvert_exporter": "python",
   "pygments_lexer": "ipython3",
   "version": "3.10.9"
  }
 },
 "nbformat": 4,
 "nbformat_minor": 5
}
