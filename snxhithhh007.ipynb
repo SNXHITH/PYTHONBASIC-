{
 "cells": [
  {
   "cell_type": "markdown",
   "id": "93e1c1ff",
   "metadata": {},
   "source": [
    "# boolean , conditions and list manupilation"
   ]
  },
  {
   "cell_type": "code",
   "execution_count": 2,
   "id": "53aeb393",
   "metadata": {},
   "outputs": [],
   "source": [
    "a=10\n",
    "b=5"
   ]
  },
  {
   "cell_type": "code",
   "execution_count": 3,
   "id": "32ca349f",
   "metadata": {},
   "outputs": [
    {
     "name": "stdout",
     "output_type": "stream",
     "text": [
      "True\n"
     ]
    }
   ],
   "source": [
    "print(a>b)"
   ]
  },
  {
   "cell_type": "code",
   "execution_count": 4,
   "id": "b499141a",
   "metadata": {},
   "outputs": [
    {
     "name": "stdout",
     "output_type": "stream",
     "text": [
      "False\n"
     ]
    }
   ],
   "source": [
    "print(a<b)"
   ]
  },
  {
   "cell_type": "code",
   "execution_count": 5,
   "id": "5689c08c",
   "metadata": {},
   "outputs": [
    {
     "name": "stdout",
     "output_type": "stream",
     "text": [
      "True\n"
     ]
    }
   ],
   "source": [
    "print(10>5)"
   ]
  },
  {
   "cell_type": "code",
   "execution_count": 6,
   "id": "5dae628a",
   "metadata": {},
   "outputs": [
    {
     "name": "stdout",
     "output_type": "stream",
     "text": [
      "False\n"
     ]
    }
   ],
   "source": [
    "print(10<5)"
   ]
  },
  {
   "cell_type": "code",
   "execution_count": 7,
   "id": "f05d281d",
   "metadata": {},
   "outputs": [],
   "source": [
    "bullet=350"
   ]
  },
  {
   "cell_type": "code",
   "execution_count": 8,
   "id": "7033989e",
   "metadata": {},
   "outputs": [],
   "source": [
    "duke=390"
   ]
  },
  {
   "cell_type": "code",
   "execution_count": 9,
   "id": "06a92af5",
   "metadata": {},
   "outputs": [
    {
     "name": "stdout",
     "output_type": "stream",
     "text": [
      "False\n"
     ]
    }
   ],
   "source": [
    "print(bullet>duke)"
   ]
  },
  {
   "cell_type": "code",
   "execution_count": 10,
   "id": "e8ff4258",
   "metadata": {},
   "outputs": [
    {
     "name": "stdout",
     "output_type": "stream",
     "text": [
      "False\n"
     ]
    }
   ],
   "source": [
    "print(duke<bullet)"
   ]
  },
  {
   "cell_type": "code",
   "execution_count": 11,
   "id": "99cc98bd",
   "metadata": {},
   "outputs": [
    {
     "name": "stdout",
     "output_type": "stream",
     "text": [
      "True\n"
     ]
    }
   ],
   "source": [
    "print(bullet<duke)"
   ]
  },
  {
   "cell_type": "markdown",
   "id": "bd1ca389",
   "metadata": {},
   "source": [
    "# +,-,*,/,% "
   ]
  },
  {
   "cell_type": "code",
   "execution_count": 1,
   "id": "46e26e05",
   "metadata": {},
   "outputs": [],
   "source": [
    "a=10\n",
    "b=15"
   ]
  },
  {
   "cell_type": "code",
   "execution_count": 2,
   "id": "30fd4aab",
   "metadata": {},
   "outputs": [
    {
     "data": {
      "text/plain": [
       "25"
      ]
     },
     "execution_count": 2,
     "metadata": {},
     "output_type": "execute_result"
    }
   ],
   "source": [
    "a+b"
   ]
  },
  {
   "cell_type": "code",
   "execution_count": 3,
   "id": "de5585a4",
   "metadata": {},
   "outputs": [],
   "source": [
    "c=25\n",
    "d=55"
   ]
  },
  {
   "cell_type": "code",
   "execution_count": 4,
   "id": "fc62241b",
   "metadata": {},
   "outputs": [
    {
     "data": {
      "text/plain": [
       "80"
      ]
     },
     "execution_count": 4,
     "metadata": {},
     "output_type": "execute_result"
    }
   ],
   "source": [
    "c+d"
   ]
  },
  {
   "cell_type": "code",
   "execution_count": 5,
   "id": "ae2a585c",
   "metadata": {},
   "outputs": [
    {
     "data": {
      "text/plain": [
       "-30"
      ]
     },
     "execution_count": 5,
     "metadata": {},
     "output_type": "execute_result"
    }
   ],
   "source": [
    "c-d"
   ]
  },
  {
   "cell_type": "code",
   "execution_count": 6,
   "id": "2f3a70f9",
   "metadata": {},
   "outputs": [
    {
     "data": {
      "text/plain": [
       "30"
      ]
     },
     "execution_count": 6,
     "metadata": {},
     "output_type": "execute_result"
    }
   ],
   "source": [
    "d-c"
   ]
  },
  {
   "cell_type": "code",
   "execution_count": 1,
   "id": "809c9c70",
   "metadata": {},
   "outputs": [
    {
     "name": "stdout",
     "output_type": "stream",
     "text": [
      "here we are adding car an pen variable\n"
     ]
    }
   ],
   "source": [
    "print(\"here we are adding car an pen variable\")"
   ]
  },
  {
   "cell_type": "code",
   "execution_count": 2,
   "id": "f9ffd0eb",
   "metadata": {},
   "outputs": [],
   "source": [
    "car =30\n",
    "pen=40"
   ]
  },
  {
   "cell_type": "code",
   "execution_count": 3,
   "id": "fef518f0",
   "metadata": {},
   "outputs": [],
   "source": [
    "book=car+pen"
   ]
  },
  {
   "cell_type": "code",
   "execution_count": 4,
   "id": "24a8975d",
   "metadata": {},
   "outputs": [
    {
     "name": "stdout",
     "output_type": "stream",
     "text": [
      "here we are doing concatination of car and pen: value of book is :- 70\n"
     ]
    }
   ],
   "source": [
    "print(\"here we are doing concatination of car and pen: value of book is :-\",book)"
   ]
  },
  {
   "cell_type": "markdown",
   "id": "c9e28f21",
   "metadata": {},
   "source": [
    "\n",
    "car=20\n",
    "value1=a+car\n",
    "value2=a*car\n",
    "value3=a%car\n",
    "value4=a-car\n",
    "value5=a*100/car #this is a percentage of a\n"
   ]
  },
  {
   "cell_type": "code",
   "execution_count": 6,
   "id": "21734fe1",
   "metadata": {},
   "outputs": [
    {
     "name": "stdout",
     "output_type": "stream",
     "text": [
      "60\n"
     ]
    }
   ],
   "source": [
    "print(a+car)"
   ]
  },
  {
   "cell_type": "code",
   "execution_count": 7,
   "id": "98f459e7",
   "metadata": {},
   "outputs": [
    {
     "name": "stdout",
     "output_type": "stream",
     "text": [
      "800\n"
     ]
    }
   ],
   "source": [
    "print(a*car)"
   ]
  },
  {
   "cell_type": "code",
   "execution_count": 10,
   "id": "7fcde86a",
   "metadata": {},
   "outputs": [
    {
     "name": "stdout",
     "output_type": "stream",
     "text": [
      "2.0\n"
     ]
    }
   ],
   "source": [
    "print(a/car)"
   ]
  },
  {
   "cell_type": "code",
   "execution_count": 9,
   "id": "c209f0bb",
   "metadata": {},
   "outputs": [
    {
     "name": "stdout",
     "output_type": "stream",
     "text": [
      "20\n"
     ]
    }
   ],
   "source": [
    "print(a-car)"
   ]
  },
  {
   "cell_type": "code",
   "execution_count": 13,
   "id": "2eb61808",
   "metadata": {},
   "outputs": [
    {
     "name": "stdout",
     "output_type": "stream",
     "text": [
      "200.0\n"
     ]
    }
   ],
   "source": [
    "print(a*100/car)"
   ]
  },
  {
   "cell_type": "markdown",
   "id": "79d5dcd5",
   "metadata": {},
   "source": [
    "# list maupilation"
   ]
  },
  {
   "cell_type": "code",
   "execution_count": 1,
   "id": "89fc61b4",
   "metadata": {},
   "outputs": [],
   "source": [
    "t=(1,2,3,4,5,\"snehith\")"
   ]
  },
  {
   "cell_type": "code",
   "execution_count": 2,
   "id": "0e643ad0",
   "metadata": {},
   "outputs": [
    {
     "data": {
      "text/plain": [
       "tuple"
      ]
     },
     "execution_count": 2,
     "metadata": {},
     "output_type": "execute_result"
    }
   ],
   "source": [
    "type(t)"
   ]
  },
  {
   "cell_type": "code",
   "execution_count": 10,
   "id": "ef48e750",
   "metadata": {},
   "outputs": [],
   "source": [
    "t=[1,2,3,4,5,\"snehith\"]"
   ]
  },
  {
   "cell_type": "code",
   "execution_count": 11,
   "id": "9c309a68",
   "metadata": {},
   "outputs": [],
   "source": [
    "b=list(t)"
   ]
  },
  {
   "cell_type": "code",
   "execution_count": 12,
   "id": "a192f8b7",
   "metadata": {},
   "outputs": [
    {
     "data": {
      "text/plain": [
       "list"
      ]
     },
     "execution_count": 12,
     "metadata": {},
     "output_type": "execute_result"
    }
   ],
   "source": [
    "type(b)"
   ]
  },
  {
   "cell_type": "code",
   "execution_count": 13,
   "id": "1c7d0f01",
   "metadata": {},
   "outputs": [],
   "source": [
    "t=(1,2,3,4,5,\"snehith\")"
   ]
  },
  {
   "cell_type": "code",
   "execution_count": 14,
   "id": "279e0466",
   "metadata": {},
   "outputs": [
    {
     "data": {
      "text/plain": [
       "[1, 2, 3, 4, 5, 'snehith']"
      ]
     },
     "execution_count": 14,
     "metadata": {},
     "output_type": "execute_result"
    }
   ],
   "source": [
    "list(t)"
   ]
  },
  {
   "cell_type": "code",
   "execution_count": 15,
   "id": "2eeef401",
   "metadata": {},
   "outputs": [],
   "source": [
    "b={1,2,3,4,\"snehith\"}"
   ]
  },
  {
   "cell_type": "code",
   "execution_count": 17,
   "id": "335eb441",
   "metadata": {},
   "outputs": [],
   "source": [
    "s1=list(b)"
   ]
  },
  {
   "cell_type": "code",
   "execution_count": 18,
   "id": "baa86f0a",
   "metadata": {},
   "outputs": [
    {
     "name": "stdout",
     "output_type": "stream",
     "text": [
      "{1, 2, 3, 4, 'snehith'}\n"
     ]
    }
   ],
   "source": [
    "print(b)"
   ]
  },
  {
   "cell_type": "code",
   "execution_count": 19,
   "id": "bf8826ab",
   "metadata": {},
   "outputs": [
    {
     "data": {
      "text/plain": [
       "set"
      ]
     },
     "execution_count": 19,
     "metadata": {},
     "output_type": "execute_result"
    }
   ],
   "source": [
    "type(b)"
   ]
  },
  {
   "cell_type": "code",
   "execution_count": 20,
   "id": "3aef6a9d",
   "metadata": {},
   "outputs": [
    {
     "name": "stdout",
     "output_type": "stream",
     "text": [
      "[1, 2, 3, 4, 'snehith']\n"
     ]
    }
   ],
   "source": [
    "print(s1)"
   ]
  },
  {
   "cell_type": "markdown",
   "id": "65ce8c6a",
   "metadata": {},
   "source": [
    "# conditions"
   ]
  },
  {
   "cell_type": "code",
   "execution_count": null,
   "id": "9abed225",
   "metadata": {},
   "outputs": [],
   "source": []
  }
 ],
 "metadata": {
  "kernelspec": {
   "display_name": "Python 3 (ipykernel)",
   "language": "python",
   "name": "python3"
  },
  "language_info": {
   "codemirror_mode": {
    "name": "ipython",
    "version": 3
   },
   "file_extension": ".py",
   "mimetype": "text/x-python",
   "name": "python",
   "nbconvert_exporter": "python",
   "pygments_lexer": "ipython3",
   "version": "3.10.9"
  }
 },
 "nbformat": 4,
 "nbformat_minor": 5
}
